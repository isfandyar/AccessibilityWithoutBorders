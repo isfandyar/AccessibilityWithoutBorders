{
 "cells": [
  {
   "cell_type": "code",
   "execution_count": 1,
   "metadata": {},
   "outputs": [],
   "source": [
    "import pandas as pd\n",
    "import numpy as np\n",
    "import matplotlib.pyplot as plt\n",
    "import seaborn as sns\n",
    "import string\n",
    "import nltk\n",
    "\n",
    "from sklearn.linear_model import LogisticRegression\n",
    "\n",
    "%matplotlib inline\n",
    "from sklearn.model_selection import train_test_split\n",
    "\n",
    "from sklearn.linear_model import LogisticRegression\n",
    "\n",
    "from sklearn.naive_bayes import MultinomialNB\n",
    "\n",
    "from sklearn.svm import SVC\n",
    "\n",
    "from sklearn.metrics import confusion_matrix, ConfusionMatrixDisplay\n",
    "\n",
    "from sklearn.metrics import classification_report\n",
    "\n",
    "from sklearn.decomposition import PCA\n",
    "\n",
    "from sklearn.preprocessing import StandardScaler\n",
    "\n",
    "from sklearn.neighbors import KNeighborsClassifier\n",
    "\n",
    "from sklearn.tree import DecisionTreeClassifier\n",
    "\n",
    "from sklearn.ensemble import RandomForestClassifier\n",
    "\n",
    "from xgboost import XGBClassifier\n",
    "\n",
    "from sklearn.model_selection import cross_val_score\n",
    "\n",
    "from sklearn.metrics import plot_confusion_matrix, confusion_matrix, accuracy_score, classification_report\n",
    "\n",
    "from sklearn.feature_extraction.text import CountVectorizer, TfidfVectorizer\n",
    "\n",
    "from textblob import TextBlob\n",
    "\n",
    "import tensorflow as tf\n",
    "from tensorflow import keras\n",
    "from tensorflow.keras import layers\n",
    "from keras.callbacks import EarlyStopping\n",
    "\n",
    "import pickle"
   ]
  },
  {
   "cell_type": "markdown",
   "metadata": {},
   "source": [
    "__Dataset 1__ - __Emotion Stimulus__  - http://www.site.uottawa.ca/∼diana/resources/emotion_stimulus_data"
   ]
  },
  {
   "cell_type": "code",
   "execution_count": 3,
   "metadata": {},
   "outputs": [],
   "source": [
    "dataset1_cause = pd.read_csv('Datasets/NLP/Dataset/Emotion Cause.txt', delimiter = \"\\t\", header=None)\n",
    "dataset1_nocause  = pd.read_csv('Datasets/NLP/Dataset/No Cause.txt',  delimiter = \"\\t\", header=None)"
   ]
  },
  {
   "cell_type": "code",
   "execution_count": 4,
   "metadata": {},
   "outputs": [
    {
     "name": "stderr",
     "output_type": "stream",
     "text": [
      "C:\\Users\\Isfan\\anaconda3\\envs\\Capstone-NLP\\lib\\site-packages\\ipykernel_launcher.py:7: FutureWarning: The default value of regex will change from True to False in a future version.\n",
      "  import sys\n"
     ]
    },
    {
     "data": {
      "text/html": [
       "<div>\n",
       "<style scoped>\n",
       "    .dataframe tbody tr th:only-of-type {\n",
       "        vertical-align: middle;\n",
       "    }\n",
       "\n",
       "    .dataframe tbody tr th {\n",
       "        vertical-align: top;\n",
       "    }\n",
       "\n",
       "    .dataframe thead th {\n",
       "        text-align: right;\n",
       "    }\n",
       "</style>\n",
       "<table border=\"1\" class=\"dataframe\">\n",
       "  <thead>\n",
       "    <tr style=\"text-align: right;\">\n",
       "      <th></th>\n",
       "      <th>emotion</th>\n",
       "      <th>text</th>\n",
       "    </tr>\n",
       "  </thead>\n",
       "  <tbody>\n",
       "    <tr>\n",
       "      <th>0</th>\n",
       "      <td>happy</td>\n",
       "      <td>I suppose I am happy being so ` tiny' ; it mea...</td>\n",
       "    </tr>\n",
       "    <tr>\n",
       "      <th>1</th>\n",
       "      <td>happy</td>\n",
       "      <td>Lennox has always truly wanted to fight for th...</td>\n",
       "    </tr>\n",
       "    <tr>\n",
       "      <th>2</th>\n",
       "      <td>happy</td>\n",
       "      <td>He was a professional musician now , still sen...</td>\n",
       "    </tr>\n",
       "    <tr>\n",
       "      <th>3</th>\n",
       "      <td>happy</td>\n",
       "      <td>Holmes is happy having the freedom of the hous...</td>\n",
       "    </tr>\n",
       "    <tr>\n",
       "      <th>4</th>\n",
       "      <td>happy</td>\n",
       "      <td>I had problems with tutors trying to encourage...</td>\n",
       "    </tr>\n",
       "    <tr>\n",
       "      <th>...</th>\n",
       "      <td>...</td>\n",
       "      <td>...</td>\n",
       "    </tr>\n",
       "    <tr>\n",
       "      <th>1589</th>\n",
       "      <td>shame</td>\n",
       "      <td>He gets real humiliated and has to leave .</td>\n",
       "    </tr>\n",
       "    <tr>\n",
       "      <th>1590</th>\n",
       "      <td>shame</td>\n",
       "      <td>They aimed for higher status jobs and felt hum...</td>\n",
       "    </tr>\n",
       "    <tr>\n",
       "      <th>1591</th>\n",
       "      <td>shame</td>\n",
       "      <td>He cursed his lack of self-control ; he knew t...</td>\n",
       "    </tr>\n",
       "    <tr>\n",
       "      <th>1592</th>\n",
       "      <td>shame</td>\n",
       "      <td>Sometimes I've thought I 'll never forget wha...</td>\n",
       "    </tr>\n",
       "    <tr>\n",
       "      <th>1593</th>\n",
       "      <td>shame</td>\n",
       "      <td>GRAHAM TAYLOR will defy the fury of a humiliat...</td>\n",
       "    </tr>\n",
       "  </tbody>\n",
       "</table>\n",
       "<p>2414 rows × 2 columns</p>\n",
       "</div>"
      ],
      "text/plain": [
       "     emotion                                               text\n",
       "0      happy  I suppose I am happy being so ` tiny' ; it mea...\n",
       "1      happy  Lennox has always truly wanted to fight for th...\n",
       "2      happy  He was a professional musician now , still sen...\n",
       "3      happy  Holmes is happy having the freedom of the hous...\n",
       "4      happy  I had problems with tutors trying to encourage...\n",
       "...      ...                                                ...\n",
       "1589   shame        He gets real humiliated and has to leave . \n",
       "1590   shame  They aimed for higher status jobs and felt hum...\n",
       "1591   shame  He cursed his lack of self-control ; he knew t...\n",
       "1592   shame   Sometimes I've thought I 'll never forget wha...\n",
       "1593   shame  GRAHAM TAYLOR will defy the fury of a humiliat...\n",
       "\n",
       "[2414 rows x 2 columns]"
      ]
     },
     "execution_count": 4,
     "metadata": {},
     "output_type": "execute_result"
    }
   ],
   "source": [
    "dataset1_nocause = dataset1_nocause[0].str.split('>',  n = 1,expand=True) # Spliting on >\n",
    "dataset1_cause = dataset1_cause[0].str.split('>',  n = 1,expand=True) # Splitting on >\n",
    "dataset1_cause[0] = dataset1_cause[0].str[1:] # Removing < (first letter) from the first column\n",
    "dataset1_nocause[0] = dataset1_nocause[0].str[1:] # Removing < (first letter) from the first column\n",
    "dataset1_nocause[1] = dataset1_nocause[1].str.split('<' , expand = True)[0] #Spliting on '<' on text column and only keeping the text column \n",
    "# Removing <cause> labels from the sentences\n",
    "dataset1_cause[1] = dataset1_cause[1].str.replace(\"<cause>\" , \"\").str.replace(\"<\\\\\\\\cause>\" , \"\").str.split('<' , expand = True)[0]\n",
    "dataset1 = dataset1_cause.append(dataset1_nocause)\n",
    "dataset1.columns = ['emotion', 'text'] #Renaming labels\n",
    "dataset1"
   ]
  },
  {
   "cell_type": "code",
   "execution_count": 5,
   "metadata": {},
   "outputs": [
    {
     "data": {
      "text/plain": [
       "sad         575\n",
       "anger       483\n",
       "happy       479\n",
       "fear        423\n",
       "surprise    213\n",
       "shame       146\n",
       "disgust      95\n",
       "Name: emotion, dtype: int64"
      ]
     },
     "execution_count": 5,
     "metadata": {},
     "output_type": "execute_result"
    }
   ],
   "source": [
    "dataset1['emotion'].value_counts()"
   ]
  },
  {
   "cell_type": "markdown",
   "metadata": {},
   "source": [
    "__Dataset 2__ - __DailyDialog__  - https://aclanthology.org/I17-1099/"
   ]
  },
  {
   "cell_type": "code",
   "execution_count": 6,
   "metadata": {},
   "outputs": [],
   "source": [
    "dataset2_text = pd.read_csv('Datasets/NLP/EMNLP_dataset/dialogues_text.txt', delimiter = \"\\t\", header=None)\n",
    "dataset2_emo = pd.read_csv('Datasets/NLP/EMNLP_dataset/dialogues_emotion.txt', delimiter = \"\\t\", header=None)"
   ]
  },
  {
   "cell_type": "markdown",
   "metadata": {},
   "source": [
    "__Initial inspection__:\n",
    "+ Sentences dataset has rows with multiple sentences\n",
    "+ Emotion data has rows with multiple emotion\n",
    "+ Emotion is labeled by `__eou__` in text data"
   ]
  },
  {
   "cell_type": "code",
   "execution_count": 7,
   "metadata": {},
   "outputs": [],
   "source": [
    "d1 = pd.melt(dataset2_text[0].str.split('__eou__' , expand = True)) \n",
    "d2 = pd.melt(dataset2_emo[0].str.split(' ' , expand = True))\n",
    "d = pd.DataFrame({\"emotion\": d2['value'], \"text\" : d1['value']})"
   ]
  },
  {
   "cell_type": "code",
   "execution_count": 8,
   "metadata": {},
   "outputs": [],
   "source": [
    "dict = {\n",
    "    '0': \"no emotion\", \n",
    "    '1': \"anger\",\n",
    "    '2': \"disgust\",\n",
    "    '3': \"fear\", \n",
    "    '4': \"happy\", \n",
    "    '5': \"sad\", \n",
    "    '6': \"surprise\"\n",
    "}\n",
    "# dictionary for emotions\n",
    "d['emotion'] = d[\"emotion\"].map(dict) # changing from 0-6 to emotions names by mapping the dictionary"
   ]
  },
  {
   "cell_type": "code",
   "execution_count": 9,
   "metadata": {},
   "outputs": [],
   "source": [
    "noemotion_rows = d.loc[d['emotion'] == 'no emotion'].index #get index of all no emotion rows"
   ]
  },
  {
   "cell_type": "code",
   "execution_count": 10,
   "metadata": {},
   "outputs": [
    {
     "data": {
      "text/html": [
       "<div>\n",
       "<style scoped>\n",
       "    .dataframe tbody tr th:only-of-type {\n",
       "        vertical-align: middle;\n",
       "    }\n",
       "\n",
       "    .dataframe tbody tr th {\n",
       "        vertical-align: top;\n",
       "    }\n",
       "\n",
       "    .dataframe thead th {\n",
       "        text-align: right;\n",
       "    }\n",
       "</style>\n",
       "<table border=\"1\" class=\"dataframe\">\n",
       "  <thead>\n",
       "    <tr style=\"text-align: right;\">\n",
       "      <th></th>\n",
       "      <th>emotion</th>\n",
       "      <th>text</th>\n",
       "    </tr>\n",
       "  </thead>\n",
       "  <tbody>\n",
       "    <tr>\n",
       "      <th>0</th>\n",
       "      <td>disgust</td>\n",
       "      <td>The kitchen stinks .</td>\n",
       "    </tr>\n",
       "    <tr>\n",
       "      <th>1</th>\n",
       "      <td>happy</td>\n",
       "      <td>So Dick , how about getting some coffee for to...</td>\n",
       "    </tr>\n",
       "    <tr>\n",
       "      <th>5</th>\n",
       "      <td>happy</td>\n",
       "      <td>Isn ’ t he the best instructor ? I think he ’ ...</td>\n",
       "    </tr>\n",
       "    <tr>\n",
       "      <th>53</th>\n",
       "      <td>sad</td>\n",
       "      <td>I'm sorry I'm late .</td>\n",
       "    </tr>\n",
       "    <tr>\n",
       "      <th>69</th>\n",
       "      <td>happy</td>\n",
       "      <td>I passed all the tests , Mom .</td>\n",
       "    </tr>\n",
       "    <tr>\n",
       "      <th>...</th>\n",
       "      <td>...</td>\n",
       "      <td>...</td>\n",
       "    </tr>\n",
       "    <tr>\n",
       "      <th>384216</th>\n",
       "      <td>happy</td>\n",
       "      <td>That ’ s right . I have a lot to learn from y...</td>\n",
       "    </tr>\n",
       "    <tr>\n",
       "      <th>392619</th>\n",
       "      <td>happy</td>\n",
       "      <td>Excellent . I would be happy to get started o...</td>\n",
       "    </tr>\n",
       "    <tr>\n",
       "      <th>397334</th>\n",
       "      <td>happy</td>\n",
       "      <td>You can ask me any question at any time .</td>\n",
       "    </tr>\n",
       "    <tr>\n",
       "      <th>422879</th>\n",
       "      <td>happy</td>\n",
       "      <td>Thanks . My name's Nick .</td>\n",
       "    </tr>\n",
       "    <tr>\n",
       "      <th>449115</th>\n",
       "      <td>happy</td>\n",
       "      <td>Thanks , Mom . Thanks .</td>\n",
       "    </tr>\n",
       "  </tbody>\n",
       "</table>\n",
       "<p>17407 rows × 2 columns</p>\n",
       "</div>"
      ],
      "text/plain": [
       "        emotion                                               text\n",
       "0       disgust                              The kitchen stinks . \n",
       "1         happy  So Dick , how about getting some coffee for to...\n",
       "5         happy  Isn ’ t he the best instructor ? I think he ’ ...\n",
       "53          sad                              I'm sorry I'm late . \n",
       "69        happy                    I passed all the tests , Mom . \n",
       "...         ...                                                ...\n",
       "384216    happy   That ’ s right . I have a lot to learn from y...\n",
       "392619    happy   Excellent . I would be happy to get started o...\n",
       "397334    happy         You can ask me any question at any time . \n",
       "422879    happy                         Thanks . My name's Nick . \n",
       "449115    happy                           Thanks , Mom . Thanks . \n",
       "\n",
       "[17407 rows x 2 columns]"
      ]
     },
     "execution_count": 10,
     "metadata": {},
     "output_type": "execute_result"
    }
   ],
   "source": [
    "d = d.drop(noemotion_rows, axis=0) #dropping the no emotion rows by index\n",
    "d = d.dropna() #dropping the NA values\n",
    "dataset2 = d\n",
    "d"
   ]
  },
  {
   "cell_type": "code",
   "execution_count": 11,
   "metadata": {},
   "outputs": [
    {
     "data": {
      "text/plain": [
       "happy       12885\n",
       "surprise     1823\n",
       "sad          1150\n",
       "anger        1022\n",
       "disgust       353\n",
       "fear          174\n",
       "Name: emotion, dtype: int64"
      ]
     },
     "execution_count": 11,
     "metadata": {},
     "output_type": "execute_result"
    }
   ],
   "source": [
    "dataset2['emotion'].value_counts() #Checking for distribtion of data"
   ]
  },
  {
   "cell_type": "markdown",
   "metadata": {},
   "source": [
    "__Dataset 3__ - __Emotions dataset for NLP (Kaggle)__  - https://www.kaggle.com/praveengovi/emotions-dataset-for-nlp"
   ]
  },
  {
   "cell_type": "code",
   "execution_count": 12,
   "metadata": {},
   "outputs": [],
   "source": [
    "dataset3_text_train = pd.read_csv('Datasets/NLP/Kaggle/train.txt', delimiter = \"\\t\", header=None)\n",
    "dataset3_text_test = pd.read_csv('Datasets/NLP/Kaggle/test.txt', delimiter = \"\\t\", header=None)\n",
    "dataset3_text_val = pd.read_csv('Datasets/NLP/Kaggle/val.txt', delimiter = \"\\t\", header=None)\n",
    "dataset3_text = dataset3_text_train.append([dataset3_text_test,dataset3_text_val]) #joining them by using command append"
   ]
  },
  {
   "cell_type": "code",
   "execution_count": 13,
   "metadata": {},
   "outputs": [
    {
     "data": {
      "text/html": [
       "<div>\n",
       "<style scoped>\n",
       "    .dataframe tbody tr th:only-of-type {\n",
       "        vertical-align: middle;\n",
       "    }\n",
       "\n",
       "    .dataframe tbody tr th {\n",
       "        vertical-align: top;\n",
       "    }\n",
       "\n",
       "    .dataframe thead th {\n",
       "        text-align: right;\n",
       "    }\n",
       "</style>\n",
       "<table border=\"1\" class=\"dataframe\">\n",
       "  <thead>\n",
       "    <tr style=\"text-align: right;\">\n",
       "      <th></th>\n",
       "      <th>text</th>\n",
       "      <th>emotion</th>\n",
       "    </tr>\n",
       "  </thead>\n",
       "  <tbody>\n",
       "    <tr>\n",
       "      <th>0</th>\n",
       "      <td>i didnt feel humiliated</td>\n",
       "      <td>sad</td>\n",
       "    </tr>\n",
       "    <tr>\n",
       "      <th>1</th>\n",
       "      <td>i can go from feeling so hopeless to so damned...</td>\n",
       "      <td>sad</td>\n",
       "    </tr>\n",
       "    <tr>\n",
       "      <th>2</th>\n",
       "      <td>im grabbing a minute to post i feel greedy wrong</td>\n",
       "      <td>anger</td>\n",
       "    </tr>\n",
       "    <tr>\n",
       "      <th>3</th>\n",
       "      <td>i am ever feeling nostalgic about the fireplac...</td>\n",
       "      <td>love</td>\n",
       "    </tr>\n",
       "    <tr>\n",
       "      <th>4</th>\n",
       "      <td>i am feeling grouchy</td>\n",
       "      <td>anger</td>\n",
       "    </tr>\n",
       "    <tr>\n",
       "      <th>...</th>\n",
       "      <td>...</td>\n",
       "      <td>...</td>\n",
       "    </tr>\n",
       "    <tr>\n",
       "      <th>1995</th>\n",
       "      <td>im having ssa examination tomorrow in the morn...</td>\n",
       "      <td>sad</td>\n",
       "    </tr>\n",
       "    <tr>\n",
       "      <th>1996</th>\n",
       "      <td>i constantly worry about their fight against n...</td>\n",
       "      <td>happy</td>\n",
       "    </tr>\n",
       "    <tr>\n",
       "      <th>1997</th>\n",
       "      <td>i feel its important to share this info for th...</td>\n",
       "      <td>happy</td>\n",
       "    </tr>\n",
       "    <tr>\n",
       "      <th>1998</th>\n",
       "      <td>i truly feel that if you are passionate enough...</td>\n",
       "      <td>happy</td>\n",
       "    </tr>\n",
       "    <tr>\n",
       "      <th>1999</th>\n",
       "      <td>i feel like i just wanna buy any cute make up ...</td>\n",
       "      <td>happy</td>\n",
       "    </tr>\n",
       "  </tbody>\n",
       "</table>\n",
       "<p>20000 rows × 2 columns</p>\n",
       "</div>"
      ],
      "text/plain": [
       "                                                   text emotion\n",
       "0                               i didnt feel humiliated     sad\n",
       "1     i can go from feeling so hopeless to so damned...     sad\n",
       "2      im grabbing a minute to post i feel greedy wrong   anger\n",
       "3     i am ever feeling nostalgic about the fireplac...    love\n",
       "4                                  i am feeling grouchy   anger\n",
       "...                                                 ...     ...\n",
       "1995  im having ssa examination tomorrow in the morn...     sad\n",
       "1996  i constantly worry about their fight against n...   happy\n",
       "1997  i feel its important to share this info for th...   happy\n",
       "1998  i truly feel that if you are passionate enough...   happy\n",
       "1999  i feel like i just wanna buy any cute make up ...   happy\n",
       "\n",
       "[20000 rows x 2 columns]"
      ]
     },
     "execution_count": 13,
     "metadata": {},
     "output_type": "execute_result"
    }
   ],
   "source": [
    "dataset3_text = dataset3_text[0].str.split(';',  n = 1,expand=True) #spliting on ;\n",
    "dataset3_text[1].value_counts() #checking distribution of data\n",
    "# Creating a dictionary to map\n",
    "\n",
    "dict2 = {\n",
    "    'joy': 'happy',\n",
    "    'love': \"love\", \n",
    "    'anger': \"anger\",\n",
    "    'fear': \"fear\", \n",
    "    'sadness': \"sad\", \n",
    "    'surprise': \"surprise\"\n",
    "}\n",
    "dataset3_text[1] = dataset3_text[1].map(dict2) #mapping\n",
    "dataset3_text.columns = ['text', 'emotion']\n",
    "dataset3 = dataset3_text\n",
    "dataset3"
   ]
  },
  {
   "cell_type": "code",
   "execution_count": 14,
   "metadata": {},
   "outputs": [
    {
     "data": {
      "text/plain": [
       "happy       6761\n",
       "sad         5797\n",
       "anger       2709\n",
       "fear        2373\n",
       "love        1641\n",
       "surprise     719\n",
       "Name: emotion, dtype: int64"
      ]
     },
     "execution_count": 14,
     "metadata": {},
     "output_type": "execute_result"
    }
   ],
   "source": [
    "dataset3['emotion'].value_counts() #Checking"
   ]
  },
  {
   "cell_type": "markdown",
   "metadata": {},
   "source": [
    "---"
   ]
  },
  {
   "cell_type": "code",
   "execution_count": 15,
   "metadata": {},
   "outputs": [],
   "source": [
    "dataset = dataset1.append(dataset2.append(dataset3))"
   ]
  },
  {
   "cell_type": "code",
   "execution_count": 16,
   "metadata": {},
   "outputs": [
    {
     "data": {
      "text/plain": [
       "happy       20125\n",
       "sad          7522\n",
       "anger        4214\n",
       "fear         2970\n",
       "surprise     2755\n",
       "love         1641\n",
       "disgust       448\n",
       "shame         146\n",
       "Name: emotion, dtype: int64"
      ]
     },
     "execution_count": 16,
     "metadata": {},
     "output_type": "execute_result"
    }
   ],
   "source": [
    "dataset['emotion'].value_counts()"
   ]
  },
  {
   "cell_type": "code",
   "execution_count": 17,
   "metadata": {},
   "outputs": [
    {
     "data": {
      "image/png": "[encoded data removed]",
      "text/plain": [
       "<Figure size 432x288 with 1 Axes>"
      ]
     },
     "metadata": {
      "needs_background": "light"
     },
     "output_type": "display_data"
    }
   ],
   "source": [
    "dataset['emotion'].value_counts().plot(kind = 'barh')\n",
    "plt.title(\"Emotion distribution\")\n",
    "plt.xlabel(\"Count\")\n",
    "plt.ylabel(\"Emotions\")\n",
    "plt.show()"
   ]
  },
  {
   "cell_type": "code",
   "execution_count": 18,
   "metadata": {},
   "outputs": [],
   "source": [
    "#lets take only 2500 rows from each emotion (other than disgust as we dont have enough data)\n",
    "\n",
    "dataset_happy = dataset.loc[dataset['emotion'] == 'happy'].sample(2500)\n",
    "dataset_sad = dataset.loc[dataset['emotion'] == 'sad'].sample(2500)\n",
    "dataset_surprise = dataset.loc[dataset['emotion'] == 'surprise'].sample(2500)\n",
    "dataset_anger = dataset.loc[dataset['emotion'] == 'anger'].sample(2500)\n",
    "dataset_fear = dataset.loc[dataset['emotion'] == 'fear'].sample(2500)\n",
    "dataset_disgust = dataset.loc[dataset['emotion'] == 'disgust']\n",
    "dataset_shame = dataset.loc[dataset['emotion'] == 'shame']\n",
    "dataset_love = dataset.loc[dataset['emotion'] == 'love']\n",
    "dataset = dataset_happy.append([dataset_sad,\n",
    "                                dataset_surprise,\n",
    "                                dataset_anger,\n",
    "                                dataset_fear,\n",
    "                                dataset_disgust,\n",
    "                                dataset_shame,\n",
    "                                dataset_love\n",
    "                               ])"
   ]
  },
  {
   "cell_type": "code",
   "execution_count": 19,
   "metadata": {},
   "outputs": [],
   "source": [
    "dataset.reset_index(drop=True, inplace=True)"
   ]
  },
  {
   "cell_type": "code",
   "execution_count": 20,
   "metadata": {},
   "outputs": [
    {
     "data": {
      "text/html": [
       "<div>\n",
       "<style scoped>\n",
       "    .dataframe tbody tr th:only-of-type {\n",
       "        vertical-align: middle;\n",
       "    }\n",
       "\n",
       "    .dataframe tbody tr th {\n",
       "        vertical-align: top;\n",
       "    }\n",
       "\n",
       "    .dataframe thead th {\n",
       "        text-align: right;\n",
       "    }\n",
       "</style>\n",
       "<table border=\"1\" class=\"dataframe\">\n",
       "  <thead>\n",
       "    <tr style=\"text-align: right;\">\n",
       "      <th></th>\n",
       "      <th>emotion</th>\n",
       "      <th>text</th>\n",
       "    </tr>\n",
       "  </thead>\n",
       "  <tbody>\n",
       "    <tr>\n",
       "      <th>0</th>\n",
       "      <td>happy</td>\n",
       "      <td>when we were able to afford a new sofa a leath...</td>\n",
       "    </tr>\n",
       "    <tr>\n",
       "      <th>1</th>\n",
       "      <td>happy</td>\n",
       "      <td>Well , my parents have rented a condominium i...</td>\n",
       "    </tr>\n",
       "    <tr>\n",
       "      <th>2</th>\n",
       "      <td>happy</td>\n",
       "      <td>i feel that time frame is going properly i m k...</td>\n",
       "    </tr>\n",
       "    <tr>\n",
       "      <th>3</th>\n",
       "      <td>happy</td>\n",
       "      <td>Thanks . You can also seek job information on...</td>\n",
       "    </tr>\n",
       "    <tr>\n",
       "      <th>4</th>\n",
       "      <td>happy</td>\n",
       "      <td>It sure is . The Grand Canyon is truly a mast...</td>\n",
       "    </tr>\n",
       "    <tr>\n",
       "      <th>...</th>\n",
       "      <td>...</td>\n",
       "      <td>...</td>\n",
       "    </tr>\n",
       "    <tr>\n",
       "      <th>14730</th>\n",
       "      <td>love</td>\n",
       "      <td>i sincerely feel will benefit any relationship...</td>\n",
       "    </tr>\n",
       "    <tr>\n",
       "      <th>14731</th>\n",
       "      <td>love</td>\n",
       "      <td>i like the feel of the game but im not very fo...</td>\n",
       "    </tr>\n",
       "    <tr>\n",
       "      <th>14732</th>\n",
       "      <td>love</td>\n",
       "      <td>im feeling a little tender and mashed today an...</td>\n",
       "    </tr>\n",
       "    <tr>\n",
       "      <th>14733</th>\n",
       "      <td>love</td>\n",
       "      <td>i can feel all supportive and jrock ish in sch...</td>\n",
       "    </tr>\n",
       "    <tr>\n",
       "      <th>14734</th>\n",
       "      <td>love</td>\n",
       "      <td>i feel like i got to know her a bit and what i...</td>\n",
       "    </tr>\n",
       "  </tbody>\n",
       "</table>\n",
       "<p>14735 rows × 2 columns</p>\n",
       "</div>"
      ],
      "text/plain": [
       "      emotion                                               text\n",
       "0       happy  when we were able to afford a new sofa a leath...\n",
       "1       happy   Well , my parents have rented a condominium i...\n",
       "2       happy  i feel that time frame is going properly i m k...\n",
       "3       happy   Thanks . You can also seek job information on...\n",
       "4       happy   It sure is . The Grand Canyon is truly a mast...\n",
       "...       ...                                                ...\n",
       "14730    love  i sincerely feel will benefit any relationship...\n",
       "14731    love  i like the feel of the game but im not very fo...\n",
       "14732    love  im feeling a little tender and mashed today an...\n",
       "14733    love  i can feel all supportive and jrock ish in sch...\n",
       "14734    love  i feel like i got to know her a bit and what i...\n",
       "\n",
       "[14735 rows x 2 columns]"
      ]
     },
     "execution_count": 20,
     "metadata": {},
     "output_type": "execute_result"
    }
   ],
   "source": [
    "dataset"
   ]
  },
  {
   "cell_type": "code",
   "execution_count": 21,
   "metadata": {},
   "outputs": [
    {
     "data": {
      "text/plain": [
       "happy       2500\n",
       "sad         2500\n",
       "surprise    2500\n",
       "anger       2500\n",
       "fear        2500\n",
       "love        1641\n",
       "disgust      448\n",
       "shame        146\n",
       "Name: emotion, dtype: int64"
      ]
     },
     "execution_count": 21,
     "metadata": {},
     "output_type": "execute_result"
    }
   ],
   "source": [
    "dataset['emotion'].value_counts() #checking distribution"
   ]
  },
  {
   "cell_type": "code",
   "execution_count": 22,
   "metadata": {},
   "outputs": [
    {
     "data": {
      "image/png": "[encoded data removed]",
      "text/plain": [
       "<Figure size 1080x720 with 1 Axes>"
      ]
     },
     "metadata": {
      "needs_background": "light"
     },
     "output_type": "display_data"
    }
   ],
   "source": [
    "plt.figure(figsize = (15,10))\n",
    "sns.countplot(x = 'emotion', data=dataset)\n",
    "plt.title(\"Emotion distribution\")\n",
    "plt.xlabel(\"Emotions\")\n",
    "plt.ylabel(\"Count\")\n",
    "plt.show()"
   ]
  },
  {
   "cell_type": "code",
   "execution_count": 39,
   "metadata": {},
   "outputs": [],
   "source": [
    "i = dataset[((dataset.emotion == 'disgust'))].index"
   ]
  },
  {
   "cell_type": "code",
   "execution_count": 40,
   "metadata": {},
   "outputs": [],
   "source": [
    "dataset = dataset.drop(i)"
   ]
  },
  {
   "cell_type": "code",
   "execution_count": 42,
   "metadata": {},
   "outputs": [],
   "source": [
    "i = dataset[((dataset.emotion == 'love'))].index\n",
    "dataset = dataset.drop(i)"
   ]
  },
  {
   "cell_type": "code",
   "execution_count": 43,
   "metadata": {},
   "outputs": [],
   "source": [
    "i = dataset[((dataset.emotion == 'shame'))].index\n",
    "dataset = dataset.drop(i)"
   ]
  },
  {
   "cell_type": "code",
   "execution_count": 44,
   "metadata": {},
   "outputs": [
    {
     "data": {
      "text/plain": [
       "happy       2500\n",
       "sad         2500\n",
       "surprise    2500\n",
       "anger       2500\n",
       "fear        2500\n",
       "Name: emotion, dtype: int64"
      ]
     },
     "execution_count": 44,
     "metadata": {},
     "output_type": "execute_result"
    }
   ],
   "source": [
    "dataset['emotion'].value_counts()"
   ]
  },
  {
   "cell_type": "markdown",
   "metadata": {},
   "source": [
    "---"
   ]
  },
  {
   "cell_type": "code",
   "execution_count": 46,
   "metadata": {},
   "outputs": [],
   "source": [
    "from nltk.tokenize import word_tokenize\n",
    "from sklearn.feature_extraction.text import TfidfVectorizer\n",
    "import nltk\n",
    "\n",
    "stemmer = nltk.stem.PorterStemmer()\n",
    "# getting stemmer"
   ]
  },
  {
   "cell_type": "code",
   "execution_count": 47,
   "metadata": {},
   "outputs": [],
   "source": [
    "from nltk.corpus import stopwords \n",
    "import re\n",
    "from nltk.tokenize import TweetTokenizer\n",
    "tweet_tokenizer = TweetTokenizer()\n",
    "\n",
    "ENGLISH_STOP_WORDS = stopwords.words('english')\n",
    "\n",
    "def my_tokenizer(sentence):\n",
    "    \n",
    "    ## remove numbers\n",
    "    #sentence = re.sub(r'\\d+', '', sentence)    \n",
    "    \n",
    "    # remove punctuation and set to lower case\n",
    "    #for punctuation_mark in string.punctuation:\n",
    "     #   sentence = sentence.replace(punctuation_mark,'').lower()\n",
    "    #sentence = tweet_tokenizer.tokenize(sentence)\n",
    "    sentence = nltk.word_tokenize(sentence) \n",
    "    \n",
    "    \n",
    "    \n",
    "    # split sentence into words\n",
    "    #listofwords = sentence.split(' ')\n",
    "    listofwords=[word.lower() for word in sentence if word.isalpha()]\n",
    "    \n",
    "    listofstemmed_words = []\n",
    "    \n",
    "    # remove stopwords and any tokens that are just empty strings\n",
    "    for word in listofwords:\n",
    "        if (not word in ENGLISH_STOP_WORDS) and (word!=''):\n",
    "            # Stem words\n",
    "            stemmed_word = stemmer.stem(word)\n",
    "            listofstemmed_words.append(stemmed_word)\n",
    "\n",
    "    return listofstemmed_words"
   ]
  },
  {
   "cell_type": "code",
   "execution_count": 48,
   "metadata": {},
   "outputs": [],
   "source": [
    "from nltk.corpus import stopwords\n",
    "\n",
    "stopwords = stopwords.words('english') #getting stop words"
   ]
  },
  {
   "cell_type": "code",
   "execution_count": 49,
   "metadata": {},
   "outputs": [],
   "source": [
    "tfidf = TfidfVectorizer(min_df=5,\n",
    "                        max_df=0.95, # drop words that occur in at least 95% of the documents\n",
    "                        tokenizer=my_tokenizer) "
   ]
  },
  {
   "cell_type": "code",
   "execution_count": 50,
   "metadata": {},
   "outputs": [],
   "source": [
    "data_transformed = tfidf.fit_transform(dataset[\"text\"]) #saving our transformed data and fiting it"
   ]
  },
  {
   "cell_type": "code",
   "execution_count": 51,
   "metadata": {},
   "outputs": [],
   "source": [
    "my_df = pd.DataFrame(columns=tfidf.get_feature_names(), data=data_transformed.toarray()) #converting to a pandas dataframe with feature names labeled"
   ]
  },
  {
   "cell_type": "code",
   "execution_count": 52,
   "metadata": {},
   "outputs": [
    {
     "data": {
      "text/html": [
       "<div>\n",
       "<style scoped>\n",
       "    .dataframe tbody tr th:only-of-type {\n",
       "        vertical-align: middle;\n",
       "    }\n",
       "\n",
       "    .dataframe tbody tr th {\n",
       "        vertical-align: top;\n",
       "    }\n",
       "\n",
       "    .dataframe thead th {\n",
       "        text-align: right;\n",
       "    }\n",
       "</style>\n",
       "<table border=\"1\" class=\"dataframe\">\n",
       "  <thead>\n",
       "    <tr style=\"text-align: right;\">\n",
       "      <th></th>\n",
       "      <th>abandon</th>\n",
       "      <th>abil</th>\n",
       "      <th>abit</th>\n",
       "      <th>abl</th>\n",
       "      <th>absolut</th>\n",
       "      <th>abus</th>\n",
       "      <th>accept</th>\n",
       "      <th>access</th>\n",
       "      <th>accid</th>\n",
       "      <th>accident</th>\n",
       "      <th>...</th>\n",
       "      <th>yesterday</th>\n",
       "      <th>yet</th>\n",
       "      <th>york</th>\n",
       "      <th>youd</th>\n",
       "      <th>young</th>\n",
       "      <th>younger</th>\n",
       "      <th>youngster</th>\n",
       "      <th>your</th>\n",
       "      <th>youth</th>\n",
       "      <th>zero</th>\n",
       "    </tr>\n",
       "  </thead>\n",
       "  <tbody>\n",
       "    <tr>\n",
       "      <th>0</th>\n",
       "      <td>0.0</td>\n",
       "      <td>0.0</td>\n",
       "      <td>0.0</td>\n",
       "      <td>0.320444</td>\n",
       "      <td>0.0</td>\n",
       "      <td>0.0</td>\n",
       "      <td>0.0</td>\n",
       "      <td>0.0</td>\n",
       "      <td>0.0</td>\n",
       "      <td>0.0</td>\n",
       "      <td>...</td>\n",
       "      <td>0.0</td>\n",
       "      <td>0.0</td>\n",
       "      <td>0.0</td>\n",
       "      <td>0.0</td>\n",
       "      <td>0.0</td>\n",
       "      <td>0.0</td>\n",
       "      <td>0.0</td>\n",
       "      <td>0.0</td>\n",
       "      <td>0.0</td>\n",
       "      <td>0.0</td>\n",
       "    </tr>\n",
       "    <tr>\n",
       "      <th>1</th>\n",
       "      <td>0.0</td>\n",
       "      <td>0.0</td>\n",
       "      <td>0.0</td>\n",
       "      <td>0.000000</td>\n",
       "      <td>0.0</td>\n",
       "      <td>0.0</td>\n",
       "      <td>0.0</td>\n",
       "      <td>0.0</td>\n",
       "      <td>0.0</td>\n",
       "      <td>0.0</td>\n",
       "      <td>...</td>\n",
       "      <td>0.0</td>\n",
       "      <td>0.0</td>\n",
       "      <td>0.0</td>\n",
       "      <td>0.0</td>\n",
       "      <td>0.0</td>\n",
       "      <td>0.0</td>\n",
       "      <td>0.0</td>\n",
       "      <td>0.0</td>\n",
       "      <td>0.0</td>\n",
       "      <td>0.0</td>\n",
       "    </tr>\n",
       "    <tr>\n",
       "      <th>2</th>\n",
       "      <td>0.0</td>\n",
       "      <td>0.0</td>\n",
       "      <td>0.0</td>\n",
       "      <td>0.000000</td>\n",
       "      <td>0.0</td>\n",
       "      <td>0.0</td>\n",
       "      <td>0.0</td>\n",
       "      <td>0.0</td>\n",
       "      <td>0.0</td>\n",
       "      <td>0.0</td>\n",
       "      <td>...</td>\n",
       "      <td>0.0</td>\n",
       "      <td>0.0</td>\n",
       "      <td>0.0</td>\n",
       "      <td>0.0</td>\n",
       "      <td>0.0</td>\n",
       "      <td>0.0</td>\n",
       "      <td>0.0</td>\n",
       "      <td>0.0</td>\n",
       "      <td>0.0</td>\n",
       "      <td>0.0</td>\n",
       "    </tr>\n",
       "    <tr>\n",
       "      <th>3</th>\n",
       "      <td>0.0</td>\n",
       "      <td>0.0</td>\n",
       "      <td>0.0</td>\n",
       "      <td>0.000000</td>\n",
       "      <td>0.0</td>\n",
       "      <td>0.0</td>\n",
       "      <td>0.0</td>\n",
       "      <td>0.0</td>\n",
       "      <td>0.0</td>\n",
       "      <td>0.0</td>\n",
       "      <td>...</td>\n",
       "      <td>0.0</td>\n",
       "      <td>0.0</td>\n",
       "      <td>0.0</td>\n",
       "      <td>0.0</td>\n",
       "      <td>0.0</td>\n",
       "      <td>0.0</td>\n",
       "      <td>0.0</td>\n",
       "      <td>0.0</td>\n",
       "      <td>0.0</td>\n",
       "      <td>0.0</td>\n",
       "    </tr>\n",
       "    <tr>\n",
       "      <th>4</th>\n",
       "      <td>0.0</td>\n",
       "      <td>0.0</td>\n",
       "      <td>0.0</td>\n",
       "      <td>0.000000</td>\n",
       "      <td>0.0</td>\n",
       "      <td>0.0</td>\n",
       "      <td>0.0</td>\n",
       "      <td>0.0</td>\n",
       "      <td>0.0</td>\n",
       "      <td>0.0</td>\n",
       "      <td>...</td>\n",
       "      <td>0.0</td>\n",
       "      <td>0.0</td>\n",
       "      <td>0.0</td>\n",
       "      <td>0.0</td>\n",
       "      <td>0.0</td>\n",
       "      <td>0.0</td>\n",
       "      <td>0.0</td>\n",
       "      <td>0.0</td>\n",
       "      <td>0.0</td>\n",
       "      <td>0.0</td>\n",
       "    </tr>\n",
       "    <tr>\n",
       "      <th>...</th>\n",
       "      <td>...</td>\n",
       "      <td>...</td>\n",
       "      <td>...</td>\n",
       "      <td>...</td>\n",
       "      <td>...</td>\n",
       "      <td>...</td>\n",
       "      <td>...</td>\n",
       "      <td>...</td>\n",
       "      <td>...</td>\n",
       "      <td>...</td>\n",
       "      <td>...</td>\n",
       "      <td>...</td>\n",
       "      <td>...</td>\n",
       "      <td>...</td>\n",
       "      <td>...</td>\n",
       "      <td>...</td>\n",
       "      <td>...</td>\n",
       "      <td>...</td>\n",
       "      <td>...</td>\n",
       "      <td>...</td>\n",
       "      <td>...</td>\n",
       "    </tr>\n",
       "    <tr>\n",
       "      <th>12495</th>\n",
       "      <td>0.0</td>\n",
       "      <td>0.0</td>\n",
       "      <td>0.0</td>\n",
       "      <td>0.000000</td>\n",
       "      <td>0.0</td>\n",
       "      <td>0.0</td>\n",
       "      <td>0.0</td>\n",
       "      <td>0.0</td>\n",
       "      <td>0.0</td>\n",
       "      <td>0.0</td>\n",
       "      <td>...</td>\n",
       "      <td>0.0</td>\n",
       "      <td>0.0</td>\n",
       "      <td>0.0</td>\n",
       "      <td>0.0</td>\n",
       "      <td>0.0</td>\n",
       "      <td>0.0</td>\n",
       "      <td>0.0</td>\n",
       "      <td>0.0</td>\n",
       "      <td>0.0</td>\n",
       "      <td>0.0</td>\n",
       "    </tr>\n",
       "    <tr>\n",
       "      <th>12496</th>\n",
       "      <td>0.0</td>\n",
       "      <td>0.0</td>\n",
       "      <td>0.0</td>\n",
       "      <td>0.000000</td>\n",
       "      <td>0.0</td>\n",
       "      <td>0.0</td>\n",
       "      <td>0.0</td>\n",
       "      <td>0.0</td>\n",
       "      <td>0.0</td>\n",
       "      <td>0.0</td>\n",
       "      <td>...</td>\n",
       "      <td>0.0</td>\n",
       "      <td>0.0</td>\n",
       "      <td>0.0</td>\n",
       "      <td>0.0</td>\n",
       "      <td>0.0</td>\n",
       "      <td>0.0</td>\n",
       "      <td>0.0</td>\n",
       "      <td>0.0</td>\n",
       "      <td>0.0</td>\n",
       "      <td>0.0</td>\n",
       "    </tr>\n",
       "    <tr>\n",
       "      <th>12497</th>\n",
       "      <td>0.0</td>\n",
       "      <td>0.0</td>\n",
       "      <td>0.0</td>\n",
       "      <td>0.000000</td>\n",
       "      <td>0.0</td>\n",
       "      <td>0.0</td>\n",
       "      <td>0.0</td>\n",
       "      <td>0.0</td>\n",
       "      <td>0.0</td>\n",
       "      <td>0.0</td>\n",
       "      <td>...</td>\n",
       "      <td>0.0</td>\n",
       "      <td>0.0</td>\n",
       "      <td>0.0</td>\n",
       "      <td>0.0</td>\n",
       "      <td>0.0</td>\n",
       "      <td>0.0</td>\n",
       "      <td>0.0</td>\n",
       "      <td>0.0</td>\n",
       "      <td>0.0</td>\n",
       "      <td>0.0</td>\n",
       "    </tr>\n",
       "    <tr>\n",
       "      <th>12498</th>\n",
       "      <td>0.0</td>\n",
       "      <td>0.0</td>\n",
       "      <td>0.0</td>\n",
       "      <td>0.000000</td>\n",
       "      <td>0.0</td>\n",
       "      <td>0.0</td>\n",
       "      <td>0.0</td>\n",
       "      <td>0.0</td>\n",
       "      <td>0.0</td>\n",
       "      <td>0.0</td>\n",
       "      <td>...</td>\n",
       "      <td>0.0</td>\n",
       "      <td>0.0</td>\n",
       "      <td>0.0</td>\n",
       "      <td>0.0</td>\n",
       "      <td>0.0</td>\n",
       "      <td>0.0</td>\n",
       "      <td>0.0</td>\n",
       "      <td>0.0</td>\n",
       "      <td>0.0</td>\n",
       "      <td>0.0</td>\n",
       "    </tr>\n",
       "    <tr>\n",
       "      <th>12499</th>\n",
       "      <td>0.0</td>\n",
       "      <td>0.0</td>\n",
       "      <td>0.0</td>\n",
       "      <td>0.000000</td>\n",
       "      <td>0.0</td>\n",
       "      <td>0.0</td>\n",
       "      <td>0.0</td>\n",
       "      <td>0.0</td>\n",
       "      <td>0.0</td>\n",
       "      <td>0.0</td>\n",
       "      <td>...</td>\n",
       "      <td>0.0</td>\n",
       "      <td>0.0</td>\n",
       "      <td>0.0</td>\n",
       "      <td>0.0</td>\n",
       "      <td>0.0</td>\n",
       "      <td>0.0</td>\n",
       "      <td>0.0</td>\n",
       "      <td>0.0</td>\n",
       "      <td>0.0</td>\n",
       "      <td>0.0</td>\n",
       "    </tr>\n",
       "  </tbody>\n",
       "</table>\n",
       "<p>12500 rows × 2346 columns</p>\n",
       "</div>"
      ],
      "text/plain": [
       "       abandon  abil  abit       abl  absolut  abus  accept  access  accid  \\\n",
       "0          0.0   0.0   0.0  0.320444      0.0   0.0     0.0     0.0    0.0   \n",
       "1          0.0   0.0   0.0  0.000000      0.0   0.0     0.0     0.0    0.0   \n",
       "2          0.0   0.0   0.0  0.000000      0.0   0.0     0.0     0.0    0.0   \n",
       "3          0.0   0.0   0.0  0.000000      0.0   0.0     0.0     0.0    0.0   \n",
       "4          0.0   0.0   0.0  0.000000      0.0   0.0     0.0     0.0    0.0   \n",
       "...        ...   ...   ...       ...      ...   ...     ...     ...    ...   \n",
       "12495      0.0   0.0   0.0  0.000000      0.0   0.0     0.0     0.0    0.0   \n",
       "12496      0.0   0.0   0.0  0.000000      0.0   0.0     0.0     0.0    0.0   \n",
       "12497      0.0   0.0   0.0  0.000000      0.0   0.0     0.0     0.0    0.0   \n",
       "12498      0.0   0.0   0.0  0.000000      0.0   0.0     0.0     0.0    0.0   \n",
       "12499      0.0   0.0   0.0  0.000000      0.0   0.0     0.0     0.0    0.0   \n",
       "\n",
       "       accident  ...  yesterday  yet  york  youd  young  younger  youngster  \\\n",
       "0           0.0  ...        0.0  0.0   0.0   0.0    0.0      0.0        0.0   \n",
       "1           0.0  ...        0.0  0.0   0.0   0.0    0.0      0.0        0.0   \n",
       "2           0.0  ...        0.0  0.0   0.0   0.0    0.0      0.0        0.0   \n",
       "3           0.0  ...        0.0  0.0   0.0   0.0    0.0      0.0        0.0   \n",
       "4           0.0  ...        0.0  0.0   0.0   0.0    0.0      0.0        0.0   \n",
       "...         ...  ...        ...  ...   ...   ...    ...      ...        ...   \n",
       "12495       0.0  ...        0.0  0.0   0.0   0.0    0.0      0.0        0.0   \n",
       "12496       0.0  ...        0.0  0.0   0.0   0.0    0.0      0.0        0.0   \n",
       "12497       0.0  ...        0.0  0.0   0.0   0.0    0.0      0.0        0.0   \n",
       "12498       0.0  ...        0.0  0.0   0.0   0.0    0.0      0.0        0.0   \n",
       "12499       0.0  ...        0.0  0.0   0.0   0.0    0.0      0.0        0.0   \n",
       "\n",
       "       your  youth  zero  \n",
       "0       0.0    0.0   0.0  \n",
       "1       0.0    0.0   0.0  \n",
       "2       0.0    0.0   0.0  \n",
       "3       0.0    0.0   0.0  \n",
       "4       0.0    0.0   0.0  \n",
       "...     ...    ...   ...  \n",
       "12495   0.0    0.0   0.0  \n",
       "12496   0.0    0.0   0.0  \n",
       "12497   0.0    0.0   0.0  \n",
       "12498   0.0    0.0   0.0  \n",
       "12499   0.0    0.0   0.0  \n",
       "\n",
       "[12500 rows x 2346 columns]"
      ]
     },
     "execution_count": 52,
     "metadata": {},
     "output_type": "execute_result"
    }
   ],
   "source": [
    "my_df"
   ]
  },
  {
   "cell_type": "code",
   "execution_count": 53,
   "metadata": {},
   "outputs": [],
   "source": [
    "words = tfidf.get_feature_names() #getting the feature names"
   ]
  },
  {
   "cell_type": "code",
   "execution_count": 54,
   "metadata": {},
   "outputs": [
    {
     "data": {
      "image/png": "[encoded data removed]",
      "text/plain": [
       "<Figure size 1080x360 with 1 Axes>"
      ]
     },
     "metadata": {
      "needs_background": "light"
     },
     "output_type": "display_data"
    }
   ],
   "source": [
    "word_weights = my_df.sum(axis=0)\n",
    "\n",
    "\n",
    "def plot_most_frequent(words, word_weights, top=20):\n",
    "    words_df = pd.DataFrame({\"token\": words, \n",
    "                             \"count\": word_weights})\n",
    "    \n",
    "    fig, ax = plt.subplots(figsize=(0.75*top, 5))\n",
    "    words_df.sort_values(by=\"count\", ascending=False).head(top)\\\n",
    "        .set_index(\"token\")\\\n",
    "        .plot(kind=\"bar\", rot=45, ax=ax)\n",
    "    sns.despine()\n",
    "    plt.title(\"Most frequent tokens\")\n",
    "    plt.show()\n",
    "    \n",
    "    \n",
    "plot_most_frequent(words, word_weights)"
   ]
  },
  {
   "cell_type": "markdown",
   "metadata": {},
   "source": [
    "---"
   ]
  },
  {
   "cell_type": "code",
   "execution_count": 55,
   "metadata": {},
   "outputs": [],
   "source": [
    "X = my_df\n",
    "y = dataset['emotion']"
   ]
  },
  {
   "cell_type": "code",
   "execution_count": 56,
   "metadata": {},
   "outputs": [],
   "source": [
    "X_train,X_test, y_train, y_test = train_test_split(X,y, test_size = 0.30) #splitting into test and training sets"
   ]
  },
  {
   "cell_type": "code",
   "execution_count": 59,
   "metadata": {},
   "outputs": [],
   "source": [
    "from sklearn.preprocessing import RobustScaler\n",
    "\n",
    "robust = RobustScaler()\n",
    "robust = robust.fit(X_train)\n",
    "\n",
    "\n",
    "X_train_robust = robust.transform(X_train)\n",
    "X_test_robust = robust.transform(X_test)"
   ]
  },
  {
   "cell_type": "code",
   "execution_count": 60,
   "metadata": {},
   "outputs": [
    {
     "name": "stdout",
     "output_type": "stream",
     "text": [
      "Training accuracy: 0.8675428571428572\n",
      "Test accuracy: 0.7674666666666666\n"
     ]
    }
   ],
   "source": [
    "robust_logit = LogisticRegression(n_jobs=-1)\n",
    "robust_logit.fit(X_train_robust, y_train)\n",
    "train_accuracy = robust_logit.score(X_train_robust, y_train)\n",
    "print(f'Training accuracy: {train_accuracy}')\n",
    "test_accuracy = robust_logit.score(X_test_robust, y_test)\n",
    "print(f'Test accuracy: {test_accuracy}')"
   ]
  },
  {
   "cell_type": "code",
   "execution_count": 61,
   "metadata": {},
   "outputs": [],
   "source": [
    "filename = 'Model1_NLP.sav'\n",
    "pickle.dump(robust_logit, open(filename, 'wb'))"
   ]
  },
  {
   "cell_type": "code",
   "execution_count": 62,
   "metadata": {},
   "outputs": [
    {
     "name": "stderr",
     "output_type": "stream",
     "text": [
      "C:\\Users\\Isfan\\anaconda3\\envs\\Capstone-NLP\\lib\\site-packages\\sklearn\\feature_extraction\\text.py:507: UserWarning: The parameter 'token_pattern' will not be used since 'tokenizer' is not None'\n",
      "  warnings.warn(\"The parameter 'token_pattern' will not be used\"\n"
     ]
    }
   ],
   "source": [
    "tfidf_vect = tfidf.fit(dataset[\"text\"]) "
   ]
  },
  {
   "cell_type": "code",
   "execution_count": 63,
   "metadata": {},
   "outputs": [],
   "source": [
    "pickle.dump(tfidf_vect, open(\"tfidf.pickle\", \"wb\"))"
   ]
  },
  {
   "cell_type": "markdown",
   "metadata": {},
   "source": [
    "---"
   ]
  },
  {
   "cell_type": "code",
   "execution_count": 64,
   "metadata": {},
   "outputs": [],
   "source": [
    "from dict import dict\n",
    "\n",
    "def predict_emotion(txt, model):\n",
    "    sample_transformed = tfidf_vect.transform(txt).toarray()\n",
    "    prediction = model.predict(sample_transformed)\n",
    "    prediction_probability = model.predict_proba(sample_transformed)\n",
    "    print(f\"Prediction: {prediction[0]}, Prediction Score: {np.max(prediction_probability)}\")\n",
    "    \n",
    "    # gets a dictionary of {'class_name': probability}\n",
    "    prob_per_class_dictionary = dict(zip(model.classes_, prediction_probability[0]))\n",
    "    return prob_per_class_dictionary"
   ]
  },
  {
   "cell_type": "code",
   "execution_count": 65,
   "metadata": {},
   "outputs": [
    {
     "name": "stdout",
     "output_type": "stream",
     "text": [
      "Prediction: anger, Prediction Score: 0.9757317571159569\n"
     ]
    },
    {
     "data": {
      "text/plain": [
       "{'anger': 0.9757317571159569,\n",
       " 'fear': 0.006287032107737191,\n",
       " 'happy': 0.0059573355309426885,\n",
       " 'sad': 0.006335667371969829,\n",
       " 'surprise': 0.005688207873393264}"
      ]
     },
     "execution_count": 65,
     "metadata": {},
     "output_type": "execute_result"
    }
   ],
   "source": [
    "sample_txt = ['This is annoying']\n",
    "predict_emotion(sample_txt,robust_logit)"
   ]
  },
  {
   "cell_type": "code",
   "execution_count": null,
   "metadata": {},
   "outputs": [],
   "source": []
  }
 ],
 "metadata": {
  "kernelspec": {
   "display_name": "Python (Capstone-NLP)",
   "language": "python",
   "name": "capstone-nlp"
  },
  "language_info": {
   "codemirror_mode": {
    "name": "ipython",
    "version": 3
   },
   "file_extension": ".py",
   "mimetype": "text/x-python",
   "name": "python",
   "nbconvert_exporter": "python",
   "pygments_lexer": "ipython3",
   "version": "3.7.6"
  },
  "toc": {
   "base_numbering": 1,
   "nav_menu": {},
   "number_sections": true,
   "sideBar": true,
   "skip_h1_title": false,
   "title_cell": "Table of Contents",
   "title_sidebar": "Contents",
   "toc_cell": false,
   "toc_position": {},
   "toc_section_display": true,
   "toc_window_display": false
  }
 },
 "nbformat": 4,
 "nbformat_minor": 4
}
